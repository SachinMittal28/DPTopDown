{
 "cells": [
  {
   "cell_type": "code",
   "execution_count": 5,
   "metadata": {},
   "outputs": [],
   "source": [
    "import nltk\n",
    "from nltk.corpus import brown\n",
    "\n",
    "fieldids = nltk.corpus.brown.fileids()\n",
    "training_corpus = brown.sents(fieldids)\n"
   ]
  },
  {
   "cell_type": "code",
   "execution_count": 12,
   "metadata": {
    "collapsed": true
   },
   "outputs": [],
   "source": [
    "START_SYMBOL = '<s>'\n",
    "STOP_SYMBOL = '</s>'\n",
    "\n",
    "# Calculates unigram, bigram, and trigram probabilities given a training corpus\n",
    "# training_corpus: is a list of the sentences. Each sentence is a list, ending in a '.' character.\n",
    "# This function outputs three python dictionaries, where the keys are tuples expressing the ngram and the value is the log probability of that ngram\n",
    "def calc_probabilities(training_corpus):\n",
    "    import collections\n",
    "    import math\n",
    "    unigram_c = collections.defaultdict(int)\n",
    "    bigram_c = collections.defaultdict(int)\n",
    "    trigram_c = collections.defaultdict(int)\n",
    "\n",
    "\n",
    "    for sentence in training_corpus:\n",
    "        tokens0 = sentence[:-1]             #removing last '.'\n",
    "        tokens1 = tokens0 + [STOP_SYMBOL]\n",
    "        tokens2 = [START_SYMBOL] + tokens0 + [STOP_SYMBOL]\n",
    "        tokens3 = [START_SYMBOL] + [START_SYMBOL] + tokens0 + [STOP_SYMBOL]\n",
    "        # unigrams\n",
    "        for unigram in tokens1:\n",
    "            unigram_c[unigram] += 1  #unigram_c is unigram count\n",
    "\n",
    "        # bigrams\n",
    "        for bigram in nltk.bigrams(tokens2):\n",
    "            bigram_c[bigram] += 1\n",
    "\n",
    "        # trigrams\n",
    "        for trigram in nltk.trigrams(tokens3):\n",
    "            trigram_c[trigram] += 1\n",
    "\n",
    "    unigrams_len = sum(unigram_c.values())\n",
    "    unigram_p = {k: math.log(float(v) / unigrams_len, 2) for k, v in unigram_c.items()}\n",
    "\n",
    "    # calc P(W2|W1) = P(W2,W1) / P(W1) = C(W2,W1) / C(W1)\n",
    "    unigram_c[START_SYMBOL] = len(training_corpus)\n",
    "    bigram_p = {k: math.log(float(v) / unigram_c[k[0]], 2) for k, v in bigram_c.items()}\n",
    "\n",
    "    bigram_c[(START_SYMBOL, START_SYMBOL)] = len(training_corpus)\n",
    "    trigram_p = {k: math.log(float(v) / bigram_c[k[:2]], 2) for k, v in trigram_c.items()}\n",
    "    return unigram_p, bigram_p, trigram_p\n"
   ]
  },
  {
   "cell_type": "code",
   "execution_count": 24,
   "metadata": {},
   "outputs": [
    {
     "name": "stdout",
     "output_type": "stream",
     "text": [
      "[(('<s>', 'The'), -3.1315177287659792), (('The', 'Fulton'), -12.82515755470108), (('Fulton', 'County'), -1.5025003405291832), (('County', 'Grand'), -6.409390936137703), (('Grand', 'Jury'), -3.1699250014423126), (('Jury', 'said'), -2.0), (('said', 'Friday'), -8.923327485419193), (('Friday', 'an'), -5.906890595608519), (('an', 'investigation'), -8.98299357469431), (('investigation', 'of'), -1.5193741590935794)]\n"
     ]
    }
   ],
   "source": [
    "from itertools import islice\n",
    "n_items = list(islice(calc_probabilities(training_corpus)[1].items(), 10))\n",
    "print(n_items)"
   ]
  },
  {
   "cell_type": "code",
   "execution_count": null,
   "metadata": {
    "collapsed": true
   },
   "outputs": [],
   "source": []
  }
 ],
 "metadata": {
  "kernelspec": {
   "display_name": "Python 3",
   "language": "python",
   "name": "python3"
  },
  "language_info": {
   "codemirror_mode": {
    "name": "ipython",
    "version": 3
   },
   "file_extension": ".py",
   "mimetype": "text/x-python",
   "name": "python",
   "nbconvert_exporter": "python",
   "pygments_lexer": "ipython3",
   "version": "3.6.3"
  }
 },
 "nbformat": 4,
 "nbformat_minor": 2
}
